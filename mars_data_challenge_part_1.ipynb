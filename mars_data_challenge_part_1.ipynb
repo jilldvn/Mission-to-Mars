{
 "cells": [
  {
   "cell_type": "code",
   "execution_count": null,
   "id": "90237632",
   "metadata": {},
   "outputs": [],
   "source": [
    "# scrape the title and preview text, or summary text of each article on the landing page."
   ]
  },
  {
   "cell_type": "code",
   "execution_count": null,
   "id": "e9a5b8aa",
   "metadata": {
    "scrolled": true
   },
   "outputs": [],
   "source": [
    "from splinter import Browser\n",
    "from bs4 import BeautifulSoup as soup\n",
    "from selenium import webdriver\n",
    "from webdriver_manager.chrome import ChromeDriverManager\n",
    "\n",
    "\n",
    "executable_path = {'executable_path': ChromeDriverManager().install()}\n",
    "browser = Browser('chrome', **executable_path, headless=False)\n",
    "url = 'https://redplanetscience.com'\n",
    "browser.visit(url)"
   ]
  },
  {
   "cell_type": "code",
   "execution_count": null,
   "id": "034f25d7",
   "metadata": {},
   "outputs": [],
   "source": [
    "#Store each title-and-preview pair in a Python dictionary. And, give each dictionary two keys: title and preview. An example is the following"
   ]
  },
  {
   "cell_type": "code",
   "execution_count": null,
   "id": "2c473bdd",
   "metadata": {},
   "outputs": [],
   "source": [
    "html = browser.html\n",
    "news_soup = soup(html, 'html.parser')\n",
    "\n",
    "titles = news_soup.find_all(\"div\", attrs={\"class\": \"content_title\"})\n",
    "title_list = []\n",
    "\n",
    "for i in titles:\n",
    "    if i:\n",
    "        title_list.append(i.text.strip())\n",
    "print(title_list)"
   ]
  },
  {
   "cell_type": "code",
   "execution_count": null,
   "id": "81ab920e",
   "metadata": {},
   "outputs": [],
   "source": [
    "summary = news_soup.find_all(\"div\", attrs={\"class\": \"article_teaser_body\"})\n",
    "preview_list = []\n",
    "\n",
    "for i in summary:\n",
    "    if i:\n",
    "        preview_list.append(i.text.strip())\n",
    "print(preview_list)"
   ]
  },
  {
   "cell_type": "code",
   "execution_count": null,
   "id": "db9c700c",
   "metadata": {},
   "outputs": [],
   "source": [
    "#Export the scraped data to either a JSON file"
   ]
  },
  {
   "cell_type": "code",
   "execution_count": null,
   "id": "4cc77775",
   "metadata": {},
   "outputs": [],
   "source": [
    "import pandas as pd\n",
    "import json\n",
    "news_mars={'title': title_list, 'preview':preview_list}\n",
    "news_mars\n",
    "with open(\"mars_news.json\", \"w\") as outfile:\n",
    "    json.dump(news_mars, outfile)"
   ]
  },
  {
   "cell_type": "code",
   "execution_count": null,
   "id": "053f88de",
   "metadata": {},
   "outputs": [],
   "source": [
    "news_mars"
   ]
  }
 ],
 "metadata": {
  "kernelspec": {
   "display_name": "Python 3 (ipykernel)",
   "language": "python",
   "name": "python3"
  },
  "language_info": {
   "codemirror_mode": {
    "name": "ipython",
    "version": 3
   },
   "file_extension": ".py",
   "mimetype": "text/x-python",
   "name": "python",
   "nbconvert_exporter": "python",
   "pygments_lexer": "ipython3",
   "version": "3.10.7"
  },
  "vscode": {
   "interpreter": {
    "hash": "fa5a666984fa158bf5102154605afd905afea474f07078e8360d7fe698f85889"
   }
  }
 },
 "nbformat": 4,
 "nbformat_minor": 5
}
